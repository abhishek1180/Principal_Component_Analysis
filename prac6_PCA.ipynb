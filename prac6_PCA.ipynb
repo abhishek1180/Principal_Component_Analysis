{
 "cells": [
  {
   "cell_type": "code",
   "execution_count": 23,
   "metadata": {},
   "outputs": [],
   "source": [
    "import pandas as pd\n",
    "import numpy as np\n",
    "import random as rd\n",
    "from sklearn.decomposition import PCA\n",
    "from sklearn import preprocessing\n",
    "import matplotlib.pyplot as plt\n"
   ]
  },
  {
   "cell_type": "code",
   "execution_count": 24,
   "metadata": {},
   "outputs": [
    {
     "name": "stdout",
     "output_type": "stream",
     "text": [
      "       wt1  wt2  wt3  wt4  wt5  ko1  ko2  ko3  ko4  ko5\n",
      "gene1  188  201  192  196  203  872  867  838  901  851\n",
      "gene2  834  846  791  855  815  284  293  337  294  321\n",
      "gene3   35   31   47   43   30  364  367  351  369  382\n",
      "gene4  385  398  353  397  367  954  874  828  909  925\n",
      "gene5  925  835  902  838  848  142  124  146  151  141\n"
     ]
    }
   ],
   "source": [
    "# generating an array of 100 gene names\n",
    "genes = ['gene'+str(i) for i in range(1,101)]\n",
    "# generating arrays of sample names 'wild type as wt' and 'knock out as ko' five each\n",
    "wt=['wt'+ str(i) for i in range(1,6)]\n",
    "ko=['ko'+ str(i) for i in range(1,6)]\n",
    "# create pandas datafram to store the made up data\n",
    "d_frame=pd.DataFrame(columns=[*wt, *ko], index=genes)\n",
    "# the stars unpack the wt and ko arrays so that the column names are a single array that looks like this\n",
    "# [wt1,...wt6,ko1,...,ko6]\n",
    "# without stars it would create an array of two arrays.\n",
    "\n",
    "# create the random data\n",
    "# the made up data comes from two poisson distributions: one for wt samples and one for ko samples.\n",
    "# for each gene we select a new mean for the poisson dist. and it can vary betw. 10 and 1000.\n",
    "# for each gene in index(gene1,...), we create 5 values for the 'wt' samples and 5 values for the 'ko' samples.\n",
    "for gene in d_frame.index:\n",
    "    d_frame.loc[gene,'wt1':'wt5']=np.random.poisson(lam=rd.randrange(10,1000), size=5)\n",
    "    d_frame.loc[gene,'ko1':'ko5']=np.random.poisson(lam=rd.randrange(10,1000), size=5)\n",
    "\n",
    "print(d_frame.head())    "
   ]
  },
  {
   "cell_type": "code",
   "execution_count": 25,
   "metadata": {},
   "outputs": [
    {
     "data": {
      "text/plain": [
       "(100, 10)"
      ]
     },
     "execution_count": 25,
     "metadata": {},
     "output_type": "execute_result"
    }
   ],
   "source": [
    "d_frame.shape"
   ]
  },
  {
   "cell_type": "code",
   "execution_count": 26,
   "metadata": {},
   "outputs": [],
   "source": [
    "# before doing PCA, we have to center and scale the data\n",
    "scaled_d_frame=preprocessing.scale(d_frame.T)"
   ]
  },
  {
   "cell_type": "markdown",
   "metadata": {},
   "source": [
    "\n",
    "Notice that we are passing in the transpose of our dataframe. the scale function expects the samples to be rows instead of columns. (acutally it scale the column this is why we need to transpose because we want each gene to be scaled individually)\n"
   ]
  },
  {
   "cell_type": "code",
   "execution_count": 27,
   "metadata": {},
   "outputs": [
    {
     "data": {
      "image/png": "[encoded data removed]",
      "text/plain": [
       "<Figure size 432x288 with 1 Axes>"
      ]
     },
     "metadata": {
      "needs_background": "light"
     },
     "output_type": "display_data"
    }
   ],
   "source": [
    "# Alternatively we could use StandardScalar().fit_transform(d_frame.T)\n",
    "# create a PCA object. Rather than just have a function that does PCA and returns results, sklearn uses objects that can be trained using one dataset and applied to another dataset.\n",
    "pca=PCA()\n",
    "# Here we do all PCA math (calculate loading scores and the variation each principal component accounts for)\n",
    "pca.fit(scaled_d_frame)\n",
    "# Here we generate coordinates for a PCA graph based on the loading scores and the scaled data.\n",
    "pca_d_frame=pca.transform(scaled_d_frame)\n",
    "\n",
    "# we will start with scree plot to see how many principal components should go into the final plot.\n",
    "# we calculate the percentage of variation that each principal component account for.\n",
    "per_var=np.round(pca.explained_variance_ratio_* 100, decimals=1)\n",
    "# we create labels for the scree plot (i.e. PC1, PC2 one label per principal component)\n",
    "labels=['PC'+str(x) for x in range(1, len(per_var)+1)]\n",
    "# using matplotlib to create bar a plot\n",
    "plt.bar(x=range(1,len(per_var)+1),height=per_var, tick_label=labels)\n",
    "plt.ylabel('Percentage of Explained Variance')\n",
    "plt.xlabel('Principal Component')\n",
    "plt.title('Scree Plot')\n",
    "plt.show()\n"
   ]
  },
  {
   "cell_type": "markdown",
   "metadata": {},
   "source": [
    "So a 2-D graph, using PC1 and PC2 should do a good job representing the original data."
   ]
  },
  {
   "cell_type": "code",
   "execution_count": 29,
   "metadata": {},
   "outputs": [
    {
     "data": {
      "image/png": "[encoded data removed]",
      "text/plain": [
       "<Figure size 432x288 with 1 Axes>"
      ]
     },
     "metadata": {
      "needs_background": "light"
     },
     "output_type": "display_data"
    }
   ],
   "source": [
    "# to draw a PCA plot, we will first put the new coordinates, created by pca.transform(scaled.d_frame), into a nice matrix where the rows have sample labels and the columns have PC labels.\n",
    "pca_df=pd.DataFrame(pca_d_frame, index=[*wt, *ko], columns=labels)\n",
    "# these commands draw a scatter plot with a title and nice axis labels\n",
    "plt.scatter(pca_df.PC1, pca_df.PC2)\n",
    "plt.title('MY PCA Graph')\n",
    "plt.xlabel('PC1-{0}%'.format(per_var[0]))\n",
    "plt.ylabel('PC2-{0}%'.format(per_var[1]))\n",
    "# this loop('annotate') adds sample names to the graph\n",
    "# per_var[0] denotes percentage of variation for PC1\n",
    "# per_var[1] denotes percentage of variation for PC2\n",
    "for sample in pca_df.index:\n",
    "    plt.annotate(sample, (pca_df.PC1.loc[sample], pca_df.PC2.loc[sample]))\n",
    "    \n",
    "plt.show()\n",
    "# display the graph"
   ]
  },
  {
   "cell_type": "markdown",
   "metadata": {},
   "source": [
    " The 'wt' samples clustered on the left side, suggesting that they are correlated with each other\n",
    " \n",
    " Similarly 'ko' samples clusteres on the right side, suggesting.....\n",
    " \n",
    " Separation of the two clusters along the x-axis suggests that 'wt' samples are very different from 'ko' samples."
   ]
  },
  {
   "cell_type": "code",
   "execution_count": 33,
   "metadata": {},
   "outputs": [
    {
     "name": "stdout",
     "output_type": "stream",
     "text": [
      "gene95   -0.105701\n",
      "gene1     0.105688\n",
      "gene87    0.105681\n",
      "gene70    0.105671\n",
      "gene10   -0.105666\n",
      "gene8    -0.105665\n",
      "gene14    0.105658\n",
      "gene56   -0.105652\n",
      "gene27   -0.105650\n",
      "gene53   -0.105639\n",
      "dtype: float64\n"
     ]
    }
   ],
   "source": [
    "# look at the loading scores for pC1 to determine which gene had the largest infuence on the separating the two clusters anlong the x-axis.\n",
    "\n",
    "# create a pandas series object with the loading scores in PC1\n",
    "loading_scores=pd.Series(pca.components_[0], index=genes)\n",
    "# note that PCs are zero-indexed, so PC1=0(index of PC1)\n",
    "# now we sort the loading scores based on their magnitude(absolute value).\n",
    "sorted_loading_scores=loading_scores.abs().sort_values(ascending=False)\n",
    "# here we are just getting the names of the top 10 indexes (which are the gene names).\n",
    "top_10_genes=sorted_loading_scores[0:10].index.values\n",
    "# print out the top 10 gene names and their corresponding loading scores.\n",
    "print (loading_scores[top_10_genes])"
   ]
  },
  {
   "cell_type": "markdown",
   "metadata": {},
   "source": [
    "These values are almost similar, so a lot of genes played a role in separating the samples, rather than just one or two."
   ]
  }
 ],
 "metadata": {
  "kernelspec": {
   "display_name": "Python 3",
   "language": "python",
   "name": "python3"
  },
  "language_info": {
   "codemirror_mode": {
    "name": "ipython",
    "version": 3
   },
   "file_extension": ".py",
   "mimetype": "text/x-python",
   "name": "python",
   "nbconvert_exporter": "python",
   "pygments_lexer": "ipython3",
   "version": "3.7.4"
  }
 },
 "nbformat": 4,
 "nbformat_minor": 2
}
